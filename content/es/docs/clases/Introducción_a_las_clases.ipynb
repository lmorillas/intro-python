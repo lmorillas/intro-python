{
 "cells": [
  {
   "cell_type": "markdown",
   "id": "28c076f7",
   "metadata": {},
   "source": [
    "# Introducción al uso de clases\n",
    "\n",
    "\n",
    "\n",
    "> Notebook a partir de https://github.com/ehmatthes/pcc_2e/blob/master/cheat_sheets/beginners_python_cheat_sheet_pcc_classes.pdf\n",
    "\n",
    "## What are classes?\n",
    "\n",
    "Classes are the foundation of object-oriented programming. Classes\n",
    "represent real-world things you want to model in your programs: for\n",
    "example dogs, cars, and robots. You use a class to make objects, which\n",
    "are specific instances of dogs, cars, and robots. A class defines the\n",
    "general behavior that a whole category of objects can have, and the\n",
    "information that can be associated with those objects. Classes can\n",
    "inherit from each other – you can write a class that extends the\n",
    "functionality of an existing class. This allows you to code efficiently\n",
    "for a wide variety of situations.\n",
    "\n",
    "## Creating a class\n",
    "\n",
    "Consider how we might model a car. What information would we associate\n",
    "with a car, and what behavior would it have? The information is stored\n",
    "in variables called attributes, and the behavior is represented by\n",
    "functions. Functions that are part of a class are called methods.\n",
    "\n",
    "**The Car class**"
   ]
  },
  {
   "cell_type": "code",
   "execution_count": null,
   "id": "343d011e",
   "metadata": {},
   "outputs": [],
   "source": [
    "class Car:\n",
    "\"\"\"A simple attempt to model a car.\"\"\"\n",
    "    def __init__(self, make, model, year):\n",
    "        \"\"\"Initialize car attributes.\"\"\"\n",
    "        self.make = make\n",
    "        self.model = model\n",
    "        self.year = year\n",
    "\n",
    "        # Fuel capacity and level in gallons.\n",
    "        self.fuel_capacity = 15\n",
    "        self.fuel_level = 0\n",
    "    def fill_tank(self):\n",
    "        \"\"\"Fill gas tank to capacity.\"\"\"\n",
    "        self.fuel_level = self.fuel_capacity\n",
    "        print(\"Fuel tank is full.\")\n",
    "\n",
    "    def drive(self):\n",
    "        \"\"\"Simulate driving.\"\"\"\n",
    "        print(\"The car is moving.\")"
   ]
  },
  {
   "cell_type": "markdown",
   "id": "2ac88092",
   "metadata": {},
   "source": [
    "## Using a class"
   ]
  },
  {
   "cell_type": "code",
   "execution_count": null,
   "id": "e48c9241",
   "metadata": {},
   "outputs": [],
   "source": [
    "# Creating an object from a class\n",
    "my_car = Car('audi', 'a4', 2016)\n",
    "\n",
    "# Accessing attribute values\n",
    "\n",
    "print(my_car.make)\n",
    "print(my_car.model)\n",
    "print(my_car.year)\n",
    "\n",
    "# Calling methods\n",
    "\n",
    "my_car.fill_tank()\n",
    "my_car.drive()\n",
    "\n",
    "# Creating multiple objects\n",
    "\n",
    "my_car = Car('audi', 'a4', 2019)\n",
    "my_old_car = Car('subaru', 'outback', 2015)\n",
    "my_truck = Car('toyota', 'tacoma', 2012)"
   ]
  },
  {
   "cell_type": "markdown",
   "id": "12c66b17",
   "metadata": {},
   "source": [
    "## Modifying attributes\n",
    "\n",
    "You can modify an attribute’s value directly, or you can write methods\n",
    "that manage updating values more carefully."
   ]
  },
  {
   "cell_type": "code",
   "execution_count": null,
   "id": "cca461d6",
   "metadata": {},
   "outputs": [],
   "source": [
    "my_new_car = Car('audi', 'a4', 2019)\n",
    "\n",
    "# Modifying an attribute directly\n",
    "my_new_car.fuel_level = 5\n",
    "\n",
    "# Writing a method to update an attribute's value\n",
    "def update_fuel_level(self, new_level):\n",
    "    \"\"\"Update the fuel level.\"\"\"\n",
    "    if new_level <= self.fuel_capacity:\n",
    "        self.fuel_level = new_level\n",
    "    else:\n",
    "        print(\"The tank can't hold that much!\")\n",
    "\n",
    "# Writing a method to increment an attribute's value\n",
    "def add_fuel(self, amount):\n",
    "    \"\"\"Add fuel to the tank.\"\"\"\n",
    "    if (self.fuel_level + amount <= self.fuel_capacity):\n",
    "        self.fuel_level += amount\n",
    "        print(\"Added fuel.\")\n",
    "    else:\n",
    "        print(\"The tank won't hold that much.\")"
   ]
  },
  {
   "cell_type": "markdown",
   "id": "37d7d1ff",
   "metadata": {},
   "source": [
    "## Naming conventions\n",
    "\n",
    "In Python class names are written in CamelCase and object names are\n",
    "written in lowercase with underscores. Modules that contain classes\n",
    "should be named in lowercase with underscores.\n",
    "\n",
    "## Class inheritance\n",
    "\n",
    "If the class you’re writing is a specialized version of another class,\n",
    "you can use inheritance. When one class inherits from another, it\n",
    "automatically takes on all the attributes and methods of the parent\n",
    "class. The child class is free to introduce new attributes and methods,\n",
    "and override attributes and methods of the parent class. To inherit from\n",
    "another class include the name of the parent class in parentheses when\n",
    "defining the new class."
   ]
  },
  {
   "cell_type": "code",
   "execution_count": null,
   "id": "ca119c6b",
   "metadata": {},
   "outputs": [],
   "source": [
    "# The __init__() method for a child class\n",
    "\n",
    "class ElectricCar(Car):\n",
    "    \"\"\"A simple model of an electric car.\"\"\"\n",
    "    def __init__(self, make, model, year):\n",
    "        \"\"\"Initialize an electric car.\"\"\"\n",
    "        super().__init__(make, model, year)\n",
    "        # Attributes specific to electric cars.\n",
    "        # Battery capacity in kWh.\n",
    "        self.battery_size = 75\n",
    "        # Charge level in %.\n",
    "        self.charge_level = 0\n",
    "\n",
    "        # Nuevo método de la clase hija\n",
    "        def charge(self):\n",
    "            \"\"\"Fully charge the vehicle.\"\"\"\n",
    "            self.charge_level = 100\n",
    "            print(\"The vehicle is fully charged.\")\n",
    "\n",
    "# Using child methods and parent methods\n",
    "my_ecar = ElectricCar('tesla', 'model s', 2019)\n",
    "my_ecar.charge()\n",
    "my_ecar.drive()"
   ]
  },
  {
   "cell_type": "markdown",
   "id": "5fbc5c91",
   "metadata": {},
   "source": [
    "### Sobreescribiendo métodos de la clase madre"
   ]
  },
  {
   "cell_type": "code",
   "execution_count": null,
   "id": "a0ba7627",
   "metadata": {},
   "outputs": [],
   "source": [
    "# Modifica la clase ...\n",
    "class ElectricCar(Car):\n",
    "  --snip--\n",
    "  def fill_tank(self):\n",
    "      \"\"\"Display an error message.\"\"\"\n",
    "      print(\"This car has no fuel tank!\")"
   ]
  },
  {
   "cell_type": "markdown",
   "id": "1c2c9e3b",
   "metadata": {},
   "source": [
    "## Instances as attributes\n",
    "\n",
    "A class can have objects as attributes. This allows classes to work\n",
    "together to model complex situations."
   ]
  },
  {
   "cell_type": "code",
   "execution_count": null,
   "id": "fd164de5",
   "metadata": {},
   "outputs": [],
   "source": [
    "# A Battery class\n",
    "class Battery:\n",
    "    \"\"\"A battery for an electric car.\"\"\"\n",
    "    def __init__(self, size=75):\n",
    "        \"\"\"Initialize battery attributes.\"\"\"\n",
    "        # Capacity in kWh, charge level in %.\n",
    "        self.size = size\n",
    "        self.charge_level = 0\n",
    "    def get_range(self):\n",
    "        \"\"\"Return the battery's range.\"\"\"\n",
    "        if self.size == 75:\n",
    "            return 260\n",
    "        elif self.size == 100:\n",
    "            return 315\n",
    "  "
   ]
  },
  {
   "cell_type": "markdown",
   "id": "18487a46",
   "metadata": {},
   "source": [
    "## Using an instance as an attribute"
   ]
  },
  {
   "cell_type": "code",
   "execution_count": null,
   "id": "b830f092",
   "metadata": {},
   "outputs": [],
   "source": [
    "# Modifica el ElectricCar\n",
    "class ElectricCar(Car):\n",
    "  --snip--\n",
    "    def __init__(self, make, model, year):\n",
    "        \"\"\"Initialize an electric car.\"\"\"\n",
    "        super().__init__(make, model, year)\n",
    "        # Attribute specific to electric cars.\n",
    "        self.battery = Battery()\n",
    "    def charge(self):\n",
    "        \"\"\"Fully charge the vehicle.\"\"\"\n",
    "        self.battery.charge_level = 100\n",
    "        print(\"The vehicle is fully charged.\")\n",
    "\n",
    "# Using the instance\n",
    "my_ecar = ElectricCar('tesla', 'model x', 2019)\n",
    "my_ecar.charge()\n",
    "print(my_ecar.battery.get_range())\n",
    "my_ecar.drive()"
   ]
  },
  {
   "cell_type": "markdown",
   "id": "4480f60e",
   "metadata": {},
   "source": [
    "## Understanding self\n",
    "\n",
    "People often ask what the self variable represents. The self variable is\n",
    "a reference to an object that’s been created from the class.\n",
    "\n",
    "The self variable provides a way to make other variables and objects\n",
    "available everywhere in a class. The self variable is automatically\n",
    "passed to each method that’s called through an object, which is why you\n",
    "see it listed first in every method definition. Any variable attached to\n",
    "self is available everywhere in the class.\n",
    "\n",
    "## Understanding `__init__()`\n",
    "\n",
    "The **init**() method is a function that’s part of a class, just like\n",
    "any other method. The only special thing about **init**() is that it’s\n",
    "called automatically every time you make a new object from a class. If\n",
    "you accidentally misspell **init**(), the method will not be called and\n",
    "your object may not be created correctly."
   ]
  }
 ],
 "metadata": {
  "kernelspec": {
   "display_name": "Python 3",
   "language": "python",
   "name": "python3"
  },
  "language_info": {
   "codemirror_mode": {
    "name": "ipython",
    "version": 3
   },
   "file_extension": ".py",
   "mimetype": "text/x-python",
   "name": "python",
   "nbconvert_exporter": "python",
   "pygments_lexer": "ipython3",
   "version": "3.6.3"
  }
 },
 "nbformat": 4,
 "nbformat_minor": 5
}
